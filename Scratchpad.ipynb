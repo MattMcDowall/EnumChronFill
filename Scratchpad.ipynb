{
 "cells": [
  {
   "cell_type": "code",
   "execution_count": 1,
   "id": "186fdbd9",
   "metadata": {},
   "outputs": [],
   "source": [
    "import Credentials      # Get API keys, etc.\n",
    "import pandas as pd\n",
    "from pprint import pprint as pp\n",
    "import re\n",
    "\n",
    "apikey = Credentials.apikey\n",
    "baseurl = 'https://api-na.hosted.exlibrisgroup.com'\n",
    "queryUpdateItem = '/almaws/v1/bibs/{mms_id}/holdings/{holding_id}/items/{item_pid}?apikey={apikey}'"
   ]
  },
  {
   "cell_type": "code",
   "execution_count": 124,
   "id": "b0706ca0",
   "metadata": {},
   "outputs": [],
   "source": [
    "### Get MMS/Holding/Item IDs, Descriptions, Locations from spreadsheet ###\n",
    "df = pd.read_csv(\"FullItemList.csv\", converters={'Item ID':str, 'Holdings ID':str, 'MMS ID':str, })"
   ]
  },
  {
   "cell_type": "code",
   "execution_count": 125,
   "id": "7adaf483",
   "metadata": {},
   "outputs": [],
   "source": [
    "# Strip it down to just the necessary columns\n",
    "df = df[['MMS ID', 'Holdings ID', 'Item ID', 'Description', 'Permanent Location']]\n",
    "\n",
    "# Strip leading/trailing space from Description\n",
    "df.Description = df.Description.str.strip()\n",
    "# Collapse multiple spaces within the Description\n",
    "df.Description.replace(' +', ' ', regex=True, inplace=True)\n",
    "# Remove spaces from column names\n",
    "df.columns = [c.replace(' ', '') for c in df.columns]"
   ]
  },
  {
   "cell_type": "code",
   "execution_count": 126,
   "id": "c337513c",
   "metadata": {},
   "outputs": [],
   "source": [
    "# Add the fields to be filled\n",
    "df[['EnumA', 'EnumB', 'ChronI', 'ChronJ']] = None\n",
    "# Create a dataframe to hold JUST records that get filled\n",
    "filled = pd.DataFrame()"
   ]
  },
  {
   "cell_type": "markdown",
   "id": "cace7096",
   "metadata": {},
   "source": [
    "### General steps for replacement:\n",
    "- Create regex which captures info from \n",
    "- Fill Enum/Chron field with captured info from Description\n",
    "- Any records with (newly) filled Enum/Chron field go into the **filled** dataframe\n",
    "- Purge those same records from the **df** dataframe\n",
    "\n",
    "#### Next step should really be to get this into a function, though:\n",
    "- Arguments to pass:\n",
    "  - Regex with capture groups\n",
    "  - list of fields to fill\n",
    "- Then just a for loop to fill each of the fields"
   ]
  },
  {
   "cell_type": "code",
   "execution_count": null,
   "id": "2be13961",
   "metadata": {},
   "outputs": [],
   "source": [
    "# Match descriptions with just volume & nothing else\n",
    "exp = re.compile(r'^v\\.(\\d)+$')\n",
    "df['EnumA'] = df['Description'].str.extract(exp, expand=True)[0]\n",
    "filled = pd.concat([filled, df[df['EnumA'].notnull()]])\n",
    "df = df[df['EnumA'].isnull()]"
   ]
  },
  {
   "cell_type": "code",
   "execution_count": 127,
   "id": "d76e27d3",
   "metadata": {},
   "outputs": [],
   "source": [
    "exp = re.compile(r'^v\\.(\\d)+$')\n",
    "df['EnumA'] = df['Description'].str.extract(exp, expand=True)[0] # This [0] means just the first capture group"
   ]
  },
  {
   "cell_type": "code",
   "execution_count": 86,
   "id": "a65611c2",
   "metadata": {},
   "outputs": [],
   "source": [
    "def fillAndExtract(regex, fields):\n",
    "    exp = re.compile(regex)\n",
    "    for i, f in enumerate(fields):\n",
    "        df[f] = df['Description'].str.extract(exp, expand=True)[i]"
   ]
  },
  {
   "cell_type": "code",
   "execution_count": 122,
   "id": "b04e0809",
   "metadata": {},
   "outputs": [],
   "source": [
    "fillAndExtract(r'^(v)\\.(\\d)+$', ['EnumA', 'EnumB'])"
   ]
  },
  {
   "cell_type": "code",
   "execution_count": 115,
   "id": "62ba30a7",
   "metadata": {},
   "outputs": [],
   "source": [
    "# Populate the **filled** dataframe with any records that now have Enum/Chron info\n",
    "filled = pd.concat([filled, df[df[f].notnull()]])\n",
    "# Purge the **df** dataframe of any records that now have Enum/Chron info\n",
    "df = df[df[['EnumA','EnumB','ChronI','ChronJ']].isnull().any(1)]"
   ]
  },
  {
   "cell_type": "code",
   "execution_count": 151,
   "id": "065c6bee",
   "metadata": {},
   "outputs": [
    {
     "data": {
      "text/html": [
       "<div>\n",
       "<style scoped>\n",
       "    .dataframe tbody tr th:only-of-type {\n",
       "        vertical-align: middle;\n",
       "    }\n",
       "\n",
       "    .dataframe tbody tr th {\n",
       "        vertical-align: top;\n",
       "    }\n",
       "\n",
       "    .dataframe thead th {\n",
       "        text-align: right;\n",
       "    }\n",
       "</style>\n",
       "<table border=\"1\" class=\"dataframe\">\n",
       "  <thead>\n",
       "    <tr style=\"text-align: right;\">\n",
       "      <th></th>\n",
       "      <th>EnumA</th>\n",
       "      <th>ChronI</th>\n",
       "    </tr>\n",
       "  </thead>\n",
       "  <tbody>\n",
       "  </tbody>\n",
       "</table>\n",
       "</div>"
      ],
      "text/plain": [
       "Empty DataFrame\n",
       "Columns: [EnumA, ChronI]\n",
       "Index: []"
      ]
     },
     "execution_count": 151,
     "metadata": {},
     "output_type": "execute_result"
    }
   ],
   "source": [
    "fields = ['EnumA', 'ChronI']\n",
    "df[fields].dropna(how='any')"
   ]
  }
 ],
 "metadata": {
  "kernelspec": {
   "display_name": "Python 3 (ipykernel)",
   "language": "python",
   "name": "python3"
  },
  "language_info": {
   "codemirror_mode": {
    "name": "ipython",
    "version": 3
   },
   "file_extension": ".py",
   "mimetype": "text/x-python",
   "name": "python",
   "nbconvert_exporter": "python",
   "pygments_lexer": "ipython3",
   "version": "3.9.7"
  }
 },
 "nbformat": 4,
 "nbformat_minor": 5
}
